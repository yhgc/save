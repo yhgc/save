{
  "cells": [
    {
      "cell_type": "code",
      "execution_count": 2,
      "metadata": {
        "id": "6nDU1YM0TIqU"
      },
      "outputs": [],
      "source": [
        "# For tips on running notebooks in Google Colab, see\n",
        "# https://pytorch.org/tutorials/beginner/colab\n",
        "%matplotlib inline"
      ]
    },
    {
      "cell_type": "markdown",
      "metadata": {
        "id": "bspyC5w6TIqd"
      },
      "source": [
        "Automatic Mixed Precision\n",
        "=========================\n",
        "\n",
        "**Author**: [Michael Carilli](https://github.com/mcarilli)\n",
        "\n",
        "[torch.cuda.amp](https://pytorch.org/docs/stable/amp.html) provides\n",
        "convenience methods for mixed precision, where some operations use the\n",
        "`torch.float32` (`float`) datatype and other operations use\n",
        "`torch.float16` (`half`). Some ops, like linear layers and convolutions,\n",
        "are much faster in `float16` or `bfloat16`. Other ops, like reductions,\n",
        "often require the dynamic range of `float32`. Mixed precision tries to\n",
        "match each op to its appropriate datatype, which can reduce your\n",
        "network\\'s runtime and memory footprint.\n",
        "\n",
        "Ordinarily, \\\"automatic mixed precision training\\\" uses\n",
        "[torch.autocast](https://pytorch.org/docs/stable/amp.html#torch.autocast)\n",
        "and\n",
        "[torch.cuda.amp.GradScaler](https://pytorch.org/docs/stable/amp.html#torch.cuda.amp.GradScaler)\n",
        "together.\n",
        "\n",
        "This recipe measures the performance of a simple network in default\n",
        "precision, then walks through adding `autocast` and `GradScaler` to run\n",
        "the same network in mixed precision with improved performance.\n",
        "\n",
        "You may download and run this recipe as a standalone Python script. The\n",
        "only requirements are PyTorch 1.6 or later and a CUDA-capable GPU.\n",
        "\n",
        "Mixed precision primarily benefits Tensor Core-enabled architectures\n",
        "(Volta, Turing, Ampere). This recipe should show significant (2-3X)\n",
        "speedup on those architectures. On earlier architectures (Kepler,\n",
        "Maxwell, Pascal), you may observe a modest speedup. Run `nvidia-smi` to\n",
        "display your GPU\\'s architecture.\n"
      ]
    },
    {
      "cell_type": "code",
      "execution_count": 3,
      "metadata": {
        "id": "Y8J8ACYzTIqi"
      },
      "outputs": [],
      "source": [
        "import torch, time, gc\n",
        "\n",
        "# Timing utilities\n",
        "start_time = None\n",
        "\n",
        "def start_timer():\n",
        "    global start_time\n",
        "    gc.collect()\n",
        "    torch.cuda.empty_cache()\n",
        "    torch.cuda.reset_max_memory_allocated()\n",
        "    torch.cuda.synchronize()\n",
        "    start_time = time.time()\n",
        "\n",
        "def end_timer_and_print(local_msg):\n",
        "    torch.cuda.synchronize()\n",
        "    end_time = time.time()\n",
        "    print(\"\\n\" + local_msg)\n",
        "    print(\"Total execution time = {:.3f} sec\".format(end_time - start_time))\n",
        "    print(\"Max memory used by tensors = {} bytes\".format(torch.cuda.max_memory_allocated()))"
      ]
    },
    {
      "cell_type": "markdown",
      "metadata": {
        "id": "JQdVYo4UTIqj"
      },
      "source": [
        "A simple network\n",
        "================\n",
        "\n",
        "The following sequence of linear layers and ReLUs should show a speedup\n",
        "with mixed precision.\n"
      ]
    },
    {
      "cell_type": "code",
      "execution_count": 4,
      "metadata": {
        "id": "zXL52nzzTIqk"
      },
      "outputs": [],
      "source": [
        "def make_model(in_size, out_size, num_layers):\n",
        "    layers = []\n",
        "    for _ in range(num_layers - 1):\n",
        "        layers.append(torch.nn.Linear(in_size, in_size))\n",
        "        layers.append(torch.nn.ReLU())\n",
        "    layers.append(torch.nn.Linear(in_size, out_size))\n",
        "    return torch.nn.Sequential(*tuple(layers)).cuda()"
      ]
    },
    {
      "cell_type": "markdown",
      "metadata": {
        "id": "paZVLaezTIqk"
      },
      "source": [
        "`batch_size`, `in_size`, `out_size`, and `num_layers` are chosen to be\n",
        "large enough to saturate the GPU with work. Typically, mixed precision\n",
        "provides the greatest speedup when the GPU is saturated. Small networks\n",
        "may be CPU bound, in which case mixed precision won\\'t improve\n",
        "performance. Sizes are also chosen such that linear layers\\'\n",
        "participating dimensions are multiples of 8, to permit Tensor Core usage\n",
        "on Tensor Core-capable GPUs (see\n",
        "`Troubleshooting<troubleshooting>`{.interpreted-text role=\"ref\"} below).\n",
        "\n",
        "Exercise: Vary participating sizes and see how the mixed precision\n",
        "speedup changes.\n"
      ]
    },
    {
      "cell_type": "code",
      "execution_count": 5,
      "metadata": {
        "id": "h3H1Dcj3TIql"
      },
      "outputs": [],
      "source": [
        "batch_size = 512 # Try, for example, 128, 256, 513.\n",
        "in_size = 4096\n",
        "out_size = 4096\n",
        "num_layers = 3\n",
        "num_batches = 50\n",
        "epochs = 3\n",
        "\n",
        "device = 'cuda' if torch.cuda.is_available() else 'cpu'\n",
        "torch.set_default_device(device)\n",
        "\n",
        "# Creates data in default precision.\n",
        "# The same data is used for both default and mixed precision trials below.\n",
        "# You don't need to manually change inputs' ``dtype`` when enabling mixed precision.\n",
        "data = [torch.randn(batch_size, in_size) for _ in range(num_batches)]\n",
        "targets = [torch.randn(batch_size, out_size) for _ in range(num_batches)]\n",
        "\n",
        "loss_fn = torch.nn.MSELoss().cuda()"
      ]
    },
    {
      "cell_type": "code",
      "source": [
        "import torch\n",
        "from torchvision import datasets, transforms\n",
        "from torch.utils.data import DataLoader\n",
        "\n",
        "# 超参数\n",
        "batch_size = 512  # 可以尝试 128, 256, 513\n",
        "in_size = 32 * 32 * 3  # 输入特征大小（CIFAR-10 图像是 32x32 的 RGB 图像）\n",
        "out_size = 10     # 输出特征大小（CIFAR-10 有 10 个类别）\n",
        "num_layers = 3    # 网络层数\n",
        "num_batches = 50  # 批次数\n",
        "epochs = 3        # 训练轮数\n",
        "\n",
        "# 设备设置\n",
        "device = 'cuda' if torch.cuda.is_available() else 'cpu'\n",
        "\n",
        "# 定义图像预处理\n",
        "transform = transforms.Compose([\n",
        "    transforms.ToTensor(),  # 转换为张量\n",
        "    transforms.Normalize(mean=[0.485, 0.456, 0.406], std=[0.229, 0.224, 0.225])  # 归一化\n",
        "])\n",
        "\n",
        "# 加载 CIFAR-10 数据集\n",
        "cifar_data = datasets.CIFAR10(\n",
        "    root=\"./data\",  # 数据集下载路径\n",
        "    train=True,     # 使用训练集\n",
        "    download=True,  # 如果数据集不存在，自动下载\n",
        "    transform=transform,\n",
        ")\n",
        "\n",
        "# 创建 DataLoader\n",
        "dataloader = DataLoader(cifar_data, batch_size=batch_size, shuffle=True)\n",
        "\n",
        "# 将 CIFAR-10 数据转换为输入和目标\n",
        "data = []\n",
        "targets = []\n",
        "for images, labels in dataloader:\n",
        "    # 将图像展平为向量 [batch_size, 32*32*3]\n",
        "    images = images.view(images.size(0), -1).to(device)  # 手动移动到设备\n",
        "    # 将标签转换为 one-hot 编码 [batch_size, 10]\n",
        "    labels = torch.nn.functional.one_hot(labels, num_classes=10).float().to(device)  # 手动移动到设备\n",
        "    data.append(images)\n",
        "    targets.append(labels)\n",
        "    if len(data) >= num_batches:  # 只取 num_batches 个批次\n",
        "        break\n",
        "\n",
        "# 定义损失函数\n",
        "loss_fn = torch.nn.MSELoss().to(device)\n",
        "\n",
        "# 打印数据形状\n",
        "print(\"Data shape:\", data[0].shape)  # 应该是 [batch_size, 32*32*3]\n",
        "print(\"Targets shape:\", targets[0].shape)  # 应该是 [batch_size, 10]"
      ],
      "metadata": {
        "id": "_5zx7hhHT5o0",
        "outputId": "d4f94b05-d1a5-4a41-dba8-93edb579f4e8",
        "colab": {
          "base_uri": "https://localhost:8080/"
        }
      },
      "execution_count": 1,
      "outputs": [
        {
          "output_type": "stream",
          "name": "stdout",
          "text": [
            "Files already downloaded and verified\n",
            "Data shape: torch.Size([512, 3072])\n",
            "Targets shape: torch.Size([512, 10])\n"
          ]
        }
      ]
    },
    {
      "cell_type": "code",
      "source": [
        "import torch\n",
        "\n",
        "# 检查 GPU 是否可用\n",
        "print(\"GPU available:\", torch.cuda.is_available())\n",
        "\n",
        "# 打印当前设备\n",
        "print(\"Current device:\", torch.cuda.current_device())\n",
        "\n",
        "# 打印设备名称\n",
        "print(\"Device name:\", torch.cuda.get_device_name(0))"
      ],
      "metadata": {
        "id": "2gmwXG6wUnHP",
        "outputId": "12a93460-ad1e-463b-b2a6-3ee8a2e43f15",
        "colab": {
          "base_uri": "https://localhost:8080/"
        }
      },
      "execution_count": 5,
      "outputs": [
        {
          "output_type": "stream",
          "name": "stdout",
          "text": [
            "GPU available: True\n",
            "Current device: 0\n",
            "Device name: Tesla T4\n"
          ]
        }
      ]
    },
    {
      "cell_type": "markdown",
      "metadata": {
        "id": "2mejjoMxTIqm"
      },
      "source": [
        "Default Precision\n",
        "=================\n",
        "\n",
        "Without `torch.cuda.amp`, the following simple network executes all ops\n",
        "in default precision (`torch.float32`):\n"
      ]
    },
    {
      "cell_type": "code",
      "execution_count": 6,
      "metadata": {
        "id": "hFFj4DFwTIqn",
        "outputId": "d88668a2-a29c-4e56-865b-39f78b065384",
        "colab": {
          "base_uri": "https://localhost:8080/"
        }
      },
      "outputs": [
        {
          "output_type": "stream",
          "name": "stderr",
          "text": [
            "/usr/local/lib/python3.11/dist-packages/torch/cuda/memory.py:365: FutureWarning: torch.cuda.reset_max_memory_allocated now calls torch.cuda.reset_peak_memory_stats, which resets /all/ peak memory stats.\n",
            "  warnings.warn(\n"
          ]
        },
        {
          "output_type": "stream",
          "name": "stdout",
          "text": [
            "\n",
            "Default precision:\n",
            "Total execution time = 2.237 sec\n",
            "Max memory used by tensors = 490300928 bytes\n"
          ]
        }
      ],
      "source": [
        "net = make_model(in_size, out_size, num_layers)\n",
        "opt = torch.optim.SGD(net.parameters(), lr=0.001)\n",
        "\n",
        "start_timer()\n",
        "for epoch in range(epochs):\n",
        "    for input, target in zip(data, targets):\n",
        "        output = net(input)\n",
        "        loss = loss_fn(output, target)\n",
        "        loss.backward()\n",
        "        opt.step()\n",
        "        opt.zero_grad() # set_to_none=True here can modestly improve performance\n",
        "end_timer_and_print(\"Default precision:\")"
      ]
    },
    {
      "cell_type": "markdown",
      "metadata": {
        "id": "VAKolO9WTIqo"
      },
      "source": [
        "Adding `torch.autocast`\n",
        "=======================\n",
        "\n",
        "Instances of\n",
        "[torch.autocast](https://pytorch.org/docs/stable/amp.html#autocasting)\n",
        "serve as context managers that allow regions of your script to run in\n",
        "mixed precision.\n",
        "\n",
        "In these regions, CUDA ops run in a `dtype` chosen by `autocast` to\n",
        "improve performance while maintaining accuracy. See the [Autocast Op\n",
        "Reference](https://pytorch.org/docs/stable/amp.html#autocast-op-reference)\n",
        "for details on what precision `autocast` chooses for each op, and under\n",
        "what circumstances.\n"
      ]
    },
    {
      "cell_type": "code",
      "execution_count": 7,
      "metadata": {
        "id": "XE9NzNWQTIqp"
      },
      "outputs": [],
      "source": [
        "for epoch in range(0): # 0 epochs, this section is for illustration only\n",
        "    for input, target in zip(data, targets):\n",
        "        # Runs the forward pass under ``autocast``.\n",
        "        with torch.autocast(device_type=device, dtype=torch.float16):\n",
        "            output = net(input)\n",
        "            # output is float16 because linear layers ``autocast`` to float16.\n",
        "            assert output.dtype is torch.float16\n",
        "\n",
        "            loss = loss_fn(output, target)\n",
        "            # loss is float32 because ``mse_loss`` layers ``autocast`` to float32.\n",
        "            assert loss.dtype is torch.float32\n",
        "\n",
        "        # Exits ``autocast`` before backward().\n",
        "        # Backward passes under ``autocast`` are not recommended.\n",
        "        # Backward ops run in the same ``dtype`` ``autocast`` chose for corresponding forward ops.\n",
        "        loss.backward()\n",
        "        opt.step()\n",
        "        opt.zero_grad() # set_to_none=True here can modestly improve performance"
      ]
    },
    {
      "cell_type": "code",
      "source": [
        "def format_memory_size(bytes):\n",
        "    if bytes < 1024:\n",
        "        return f\"{bytes} B\"\n",
        "    elif bytes < 1024 * 1024:\n",
        "        return f\"{bytes / 1024:.2f} KB\"\n",
        "    elif bytes < 1024 * 1024 * 1024:\n",
        "        return f\"{bytes / (1024 * 1024):.2f} MB\"\n",
        "    else:\n",
        "        return f\"{bytes / (1024 * 1024 * 1024):.2f} GB\""
      ],
      "metadata": {
        "id": "j9MuFoeaVezC"
      },
      "execution_count": 9,
      "outputs": []
    },
    {
      "cell_type": "code",
      "source": [
        "timer_results = []# 用于存储每一次的结果。\n",
        "\n",
        "def end_timer_and_print(local_msg):\n",
        "    torch.cuda.synchronize()\n",
        "    end_time = time.time()\n",
        "\n",
        "    elapsed_time = end_time - start_time #计算运行时间\n",
        "    max_memory = torch.cuda.max_memory_allocated()#获取程序运行期间张量所使用的最大内存\n",
        "    timer_results.append((local_msg, elapsed_time, max_memory))#将本次计时的信息 (local_msg)、运行时间 (elapsed_time) 和最大内存使用量 (max_memory) 以元组的形式添加到 timer_results 列表中。\n",
        "\n",
        "    print(\"\\n\" + local_msg)\n",
        "    print(\"Total execution time = {:.3f} sec\".format(elapsed_time))\n",
        "    print(\"Max memory used by tensors =\", format_memory_size(max_memory))"
      ],
      "metadata": {
        "id": "rbRFjrXFVgIe"
      },
      "execution_count": 10,
      "outputs": []
    },
    {
      "cell_type": "code",
      "source": [
        "# 定义一个简单的模型\n",
        "model = torch.nn.Linear(1000, 1000).cuda() #创建一个线性模型 model\n",
        "input_data = torch.randn(1000, 1000).cuda() #创建随机输入数据\n",
        "# 开始计时\n",
        "start_timer()\n",
        "# 模拟前向传播和反向传播\n",
        "output = model(input_data)\n",
        "loss = output.sum()\n",
        "loss.backward()\n",
        "# 结束计时并打印结果\n",
        "end_timer_and_print(\"Linear layer forward + backward pass\")"
      ],
      "metadata": {
        "id": "noO0w3mDVjC6",
        "outputId": "5dbfec49-998b-423f-8335-12a7f193e80f",
        "colab": {
          "base_uri": "https://localhost:8080/"
        }
      },
      "execution_count": 11,
      "outputs": [
        {
          "output_type": "stream",
          "name": "stdout",
          "text": [
            "\n",
            "Linear layer forward + backward pass\n",
            "Total execution time = 0.013 sec\n",
            "Max memory used by tensors = 408.86 MB\n"
          ]
        }
      ]
    },
    {
      "cell_type": "code",
      "source": [
        "# 定义模型\n",
        "model = make_model(in_size, out_size, num_layers).to(device)\n",
        "\n",
        "# 定义优化器\n",
        "optimizer = torch.optim.Adam(model.parameters(), lr=0.001)\n",
        "\n",
        "# 训练循环\n",
        "for epoch in range(epochs):\n",
        "    start_timer()  # 开始计时\n",
        "    for i in range(num_batches):\n",
        "        # 获取当前批次的数据和目标\n",
        "        inputs = data[i].to(device)\n",
        "        labels = targets[i].to(device)\n",
        "\n",
        "        # 前向传播\n",
        "        outputs = model(inputs)\n",
        "        loss = loss_fn(outputs, labels)\n",
        "\n",
        "        # 反向传播和优化\n",
        "        optimizer.zero_grad()\n",
        "        loss.backward()\n",
        "        optimizer.step()\n",
        "\n",
        "    # 结束计时并打印结果\n",
        "    end_timer_and_print(f\"Epoch {epoch + 1} completed\")"
      ],
      "metadata": {
        "id": "ZnQk7Ow7Vol1",
        "outputId": "de357f60-4ec1-425a-9902-0c4ba23a347c",
        "colab": {
          "base_uri": "https://localhost:8080/"
        }
      },
      "execution_count": 13,
      "outputs": [
        {
          "output_type": "stream",
          "name": "stdout",
          "text": [
            "\n",
            "Epoch 1 completed\n",
            "Total execution time = 0.961 sec\n",
            "Max memory used by tensors = 765.79 MB\n",
            "\n",
            "Epoch 2 completed\n",
            "Total execution time = 0.791 sec\n",
            "Max memory used by tensors = 765.79 MB\n",
            "\n",
            "Epoch 3 completed\n",
            "Total execution time = 0.792 sec\n",
            "Max memory used by tensors = 765.79 MB\n"
          ]
        }
      ]
    },
    {
      "cell_type": "code",
      "source": [
        "def print_memory_usage(prefix=\"\"):\n",
        " if torch.cuda.is_available():\n",
        "     print(f\"{prefix} Memory allocated: {torch.cuda.memory_allocated() / 1e6:.2f} MB\")\n",
        "     print(f\"{prefix} Memory reserved: {torch.cuda.memory_reserved() / 1e6:.2f} MB\")\n",
        "\n",
        "# 在训练循环中添加显存监控\n",
        "for epoch in range(epochs):\n",
        " start_timer()\n",
        " for i in range(num_batches):\n",
        "     inputs = data[i].to(device)\n",
        "     labels = targets[i].to(device)\n",
        "\n",
        "     outputs = model(inputs)\n",
        "     loss = loss_fn(outputs, labels)\n",
        "\n",
        "     optimizer.zero_grad()\n",
        "     loss.backward()\n",
        "     optimizer.step()\n",
        "\n",
        "     # 每 10 个批次打印一次显存使用情况\n",
        "     if i % 10 == 0:\n",
        "         print_memory_usage(f\"Epoch {epoch + 1}, Batch {i + 1}\")\n",
        " end_timer_and_print(f\"Epoch {epoch + 1} completed\")"
      ],
      "metadata": {
        "id": "4wAJnEeyVs2H",
        "outputId": "3e1f01cb-b276-4511-e8a2-1220192724c0",
        "colab": {
          "base_uri": "https://localhost:8080/"
        }
      },
      "execution_count": 14,
      "outputs": [
        {
          "output_type": "stream",
          "name": "stdout",
          "text": [
            "Epoch 1, Batch 1 Memory allocated: 727.34 MB\n",
            "Epoch 1, Batch 1 Memory reserved: 876.61 MB\n",
            "Epoch 1, Batch 11 Memory allocated: 727.34 MB\n",
            "Epoch 1, Batch 11 Memory reserved: 876.61 MB\n",
            "Epoch 1, Batch 21 Memory allocated: 727.34 MB\n",
            "Epoch 1, Batch 21 Memory reserved: 876.61 MB\n",
            "Epoch 1, Batch 31 Memory allocated: 727.34 MB\n",
            "Epoch 1, Batch 31 Memory reserved: 876.61 MB\n",
            "Epoch 1, Batch 41 Memory allocated: 727.34 MB\n",
            "Epoch 1, Batch 41 Memory reserved: 876.61 MB\n",
            "\n",
            "Epoch 1 completed\n",
            "Total execution time = 0.846 sec\n",
            "Max memory used by tensors = 765.79 MB\n",
            "Epoch 2, Batch 1 Memory allocated: 727.34 MB\n",
            "Epoch 2, Batch 1 Memory reserved: 876.61 MB\n",
            "Epoch 2, Batch 11 Memory allocated: 727.34 MB\n",
            "Epoch 2, Batch 11 Memory reserved: 876.61 MB\n",
            "Epoch 2, Batch 21 Memory allocated: 727.34 MB\n",
            "Epoch 2, Batch 21 Memory reserved: 876.61 MB\n",
            "Epoch 2, Batch 31 Memory allocated: 727.34 MB\n",
            "Epoch 2, Batch 31 Memory reserved: 876.61 MB\n",
            "Epoch 2, Batch 41 Memory allocated: 727.34 MB\n",
            "Epoch 2, Batch 41 Memory reserved: 876.61 MB\n",
            "\n",
            "Epoch 2 completed\n",
            "Total execution time = 0.794 sec\n",
            "Max memory used by tensors = 765.79 MB\n",
            "Epoch 3, Batch 1 Memory allocated: 727.34 MB\n",
            "Epoch 3, Batch 1 Memory reserved: 876.61 MB\n",
            "Epoch 3, Batch 11 Memory allocated: 727.34 MB\n",
            "Epoch 3, Batch 11 Memory reserved: 876.61 MB\n",
            "Epoch 3, Batch 21 Memory allocated: 727.34 MB\n",
            "Epoch 3, Batch 21 Memory reserved: 876.61 MB\n",
            "Epoch 3, Batch 31 Memory allocated: 727.34 MB\n",
            "Epoch 3, Batch 31 Memory reserved: 876.61 MB\n",
            "Epoch 3, Batch 41 Memory allocated: 727.34 MB\n",
            "Epoch 3, Batch 41 Memory reserved: 876.61 MB\n",
            "\n",
            "Epoch 3 completed\n",
            "Total execution time = 0.794 sec\n",
            "Max memory used by tensors = 765.79 MB\n"
          ]
        }
      ]
    },
    {
      "cell_type": "code",
      "source": [
        "def check_gradients(model):\n",
        " for name, param in model.named_parameters():\n",
        "     if param.grad is not None:\n",
        "         grad_mean = param.grad.abs().mean().item()\n",
        "         grad_max = param.grad.abs().max().item()\n",
        "         print(f\"Layer: {name}, Mean Gradient: {grad_mean:.6f}, Max Gradient: {grad_max:.6f}\")\n",
        "     else:\n",
        "         print(f\"Layer: {name}, No Gradient\")\n",
        "\n",
        "# 在训练循环中添加梯度检查\n",
        "for epoch in range(epochs):\n",
        " start_timer()\n",
        " for i in range(num_batches):\n",
        "     inputs = data[i].to(device)\n",
        "     labels = targets[i].to(device)\n",
        "\n",
        "     outputs = model(inputs)\n",
        "     loss = loss_fn(outputs, labels)\n",
        "\n",
        "     optimizer.zero_grad()\n",
        "     loss.backward()\n",
        "     optimizer.step()\n",
        "\n",
        "     # 每 10 个批次检查一次梯度\n",
        "     if i % 10 == 0:\n",
        "         check_gradients(model)\n",
        " end_timer_and_print(f\"Epoch {epoch + 1} completed\")"
      ],
      "metadata": {
        "id": "P8AJILAzVu3A",
        "outputId": "7b0e95f7-7043-488f-853f-661035adc5c3",
        "colab": {
          "base_uri": "https://localhost:8080/"
        }
      },
      "execution_count": 15,
      "outputs": [
        {
          "output_type": "stream",
          "name": "stdout",
          "text": [
            "Layer: 0.weight, Mean Gradient: 0.000002, Max Gradient: 0.000097\n",
            "Layer: 0.bias, Mean Gradient: 0.000003, Max Gradient: 0.000046\n",
            "Layer: 2.weight, Mean Gradient: 0.000001, Max Gradient: 0.002881\n",
            "Layer: 2.bias, Mean Gradient: 0.000000, Max Gradient: 0.000319\n",
            "Layer: 4.weight, Mean Gradient: 0.000022, Max Gradient: 0.034768\n",
            "Layer: 4.bias, Mean Gradient: 0.003679, Max Gradient: 0.007571\n",
            "Layer: 0.weight, Mean Gradient: 0.000002, Max Gradient: 0.000138\n",
            "Layer: 0.bias, Mean Gradient: 0.000003, Max Gradient: 0.000047\n",
            "Layer: 2.weight, Mean Gradient: 0.000001, Max Gradient: 0.003137\n",
            "Layer: 2.bias, Mean Gradient: 0.000000, Max Gradient: 0.000212\n",
            "Layer: 4.weight, Mean Gradient: 0.000032, Max Gradient: 0.052904\n",
            "Layer: 4.bias, Mean Gradient: 0.002631, Max Gradient: 0.004801\n",
            "Layer: 0.weight, Mean Gradient: 0.000003, Max Gradient: 0.000106\n",
            "Layer: 0.bias, Mean Gradient: 0.000003, Max Gradient: 0.000039\n",
            "Layer: 2.weight, Mean Gradient: 0.000001, Max Gradient: 0.004185\n",
            "Layer: 2.bias, Mean Gradient: 0.000000, Max Gradient: 0.000368\n",
            "Layer: 4.weight, Mean Gradient: 0.000035, Max Gradient: 0.058538\n",
            "Layer: 4.bias, Mean Gradient: 0.003709, Max Gradient: 0.009395\n",
            "Layer: 0.weight, Mean Gradient: 0.000002, Max Gradient: 0.000102\n",
            "Layer: 0.bias, Mean Gradient: 0.000002, Max Gradient: 0.000019\n",
            "Layer: 2.weight, Mean Gradient: 0.000001, Max Gradient: 0.002142\n",
            "Layer: 2.bias, Mean Gradient: 0.000000, Max Gradient: 0.000082\n",
            "Layer: 4.weight, Mean Gradient: 0.000028, Max Gradient: 0.033395\n",
            "Layer: 4.bias, Mean Gradient: 0.001587, Max Gradient: 0.003811\n",
            "Layer: 0.weight, Mean Gradient: 0.000002, Max Gradient: 0.000118\n",
            "Layer: 0.bias, Mean Gradient: 0.000003, Max Gradient: 0.000039\n",
            "Layer: 2.weight, Mean Gradient: 0.000001, Max Gradient: 0.003126\n",
            "Layer: 2.bias, Mean Gradient: 0.000000, Max Gradient: 0.000169\n",
            "Layer: 4.weight, Mean Gradient: 0.000029, Max Gradient: 0.046512\n",
            "Layer: 4.bias, Mean Gradient: 0.002331, Max Gradient: 0.005170\n",
            "\n",
            "Epoch 1 completed\n",
            "Total execution time = 0.882 sec\n",
            "Max memory used by tensors = 765.79 MB\n",
            "Layer: 0.weight, Mean Gradient: 0.000002, Max Gradient: 0.000101\n",
            "Layer: 0.bias, Mean Gradient: 0.000003, Max Gradient: 0.000065\n",
            "Layer: 2.weight, Mean Gradient: 0.000001, Max Gradient: 0.003001\n",
            "Layer: 2.bias, Mean Gradient: 0.000000, Max Gradient: 0.000293\n",
            "Layer: 4.weight, Mean Gradient: 0.000031, Max Gradient: 0.040064\n",
            "Layer: 4.bias, Mean Gradient: 0.003730, Max Gradient: 0.008212\n",
            "Layer: 0.weight, Mean Gradient: 0.000002, Max Gradient: 0.000121\n",
            "Layer: 0.bias, Mean Gradient: 0.000003, Max Gradient: 0.000062\n",
            "Layer: 2.weight, Mean Gradient: 0.000001, Max Gradient: 0.004195\n",
            "Layer: 2.bias, Mean Gradient: 0.000000, Max Gradient: 0.000169\n",
            "Layer: 4.weight, Mean Gradient: 0.000033, Max Gradient: 0.075266\n",
            "Layer: 4.bias, Mean Gradient: 0.003406, Max Gradient: 0.007762\n",
            "Layer: 0.weight, Mean Gradient: 0.000003, Max Gradient: 0.000111\n",
            "Layer: 0.bias, Mean Gradient: 0.000003, Max Gradient: 0.000046\n",
            "Layer: 2.weight, Mean Gradient: 0.000001, Max Gradient: 0.004511\n",
            "Layer: 2.bias, Mean Gradient: 0.000000, Max Gradient: 0.000455\n",
            "Layer: 4.weight, Mean Gradient: 0.000036, Max Gradient: 0.069840\n",
            "Layer: 4.bias, Mean Gradient: 0.004574, Max Gradient: 0.012826\n",
            "Layer: 0.weight, Mean Gradient: 0.000002, Max Gradient: 0.000153\n",
            "Layer: 0.bias, Mean Gradient: 0.000003, Max Gradient: 0.000055\n",
            "Layer: 2.weight, Mean Gradient: 0.000001, Max Gradient: 0.003784\n",
            "Layer: 2.bias, Mean Gradient: 0.000000, Max Gradient: 0.000265\n",
            "Layer: 4.weight, Mean Gradient: 0.000031, Max Gradient: 0.053055\n",
            "Layer: 4.bias, Mean Gradient: 0.002274, Max Gradient: 0.006914\n",
            "Layer: 0.weight, Mean Gradient: 0.000002, Max Gradient: 0.000147\n",
            "Layer: 0.bias, Mean Gradient: 0.000003, Max Gradient: 0.000049\n",
            "Layer: 2.weight, Mean Gradient: 0.000001, Max Gradient: 0.003523\n",
            "Layer: 2.bias, Mean Gradient: 0.000000, Max Gradient: 0.000337\n",
            "Layer: 4.weight, Mean Gradient: 0.000032, Max Gradient: 0.074366\n",
            "Layer: 4.bias, Mean Gradient: 0.003539, Max Gradient: 0.008281\n",
            "\n",
            "Epoch 2 completed\n",
            "Total execution time = 0.805 sec\n",
            "Max memory used by tensors = 765.79 MB\n",
            "Layer: 0.weight, Mean Gradient: 0.000002, Max Gradient: 0.000105\n",
            "Layer: 0.bias, Mean Gradient: 0.000003, Max Gradient: 0.000056\n",
            "Layer: 2.weight, Mean Gradient: 0.000001, Max Gradient: 0.003219\n",
            "Layer: 2.bias, Mean Gradient: 0.000000, Max Gradient: 0.000221\n",
            "Layer: 4.weight, Mean Gradient: 0.000027, Max Gradient: 0.037674\n",
            "Layer: 4.bias, Mean Gradient: 0.003568, Max Gradient: 0.007041\n",
            "Layer: 0.weight, Mean Gradient: 0.000002, Max Gradient: 0.000147\n",
            "Layer: 0.bias, Mean Gradient: 0.000003, Max Gradient: 0.000090\n",
            "Layer: 2.weight, Mean Gradient: 0.000001, Max Gradient: 0.005248\n",
            "Layer: 2.bias, Mean Gradient: 0.000000, Max Gradient: 0.000255\n",
            "Layer: 4.weight, Mean Gradient: 0.000040, Max Gradient: 0.097295\n",
            "Layer: 4.bias, Mean Gradient: 0.004049, Max Gradient: 0.010426\n",
            "Layer: 0.weight, Mean Gradient: 0.000003, Max Gradient: 0.000184\n",
            "Layer: 0.bias, Mean Gradient: 0.000003, Max Gradient: 0.000062\n",
            "Layer: 2.weight, Mean Gradient: 0.000001, Max Gradient: 0.003954\n",
            "Layer: 2.bias, Mean Gradient: 0.000000, Max Gradient: 0.000455\n",
            "Layer: 4.weight, Mean Gradient: 0.000038, Max Gradient: 0.077600\n",
            "Layer: 4.bias, Mean Gradient: 0.004902, Max Gradient: 0.012234\n",
            "Layer: 0.weight, Mean Gradient: 0.000002, Max Gradient: 0.000131\n",
            "Layer: 0.bias, Mean Gradient: 0.000002, Max Gradient: 0.000052\n",
            "Layer: 2.weight, Mean Gradient: 0.000001, Max Gradient: 0.002544\n",
            "Layer: 2.bias, Mean Gradient: 0.000000, Max Gradient: 0.000176\n",
            "Layer: 4.weight, Mean Gradient: 0.000023, Max Gradient: 0.030991\n",
            "Layer: 4.bias, Mean Gradient: 0.002009, Max Gradient: 0.003943\n",
            "Layer: 0.weight, Mean Gradient: 0.000003, Max Gradient: 0.000162\n",
            "Layer: 0.bias, Mean Gradient: 0.000003, Max Gradient: 0.000074\n",
            "Layer: 2.weight, Mean Gradient: 0.000001, Max Gradient: 0.002878\n",
            "Layer: 2.bias, Mean Gradient: 0.000000, Max Gradient: 0.000288\n",
            "Layer: 4.weight, Mean Gradient: 0.000033, Max Gradient: 0.065763\n",
            "Layer: 4.bias, Mean Gradient: 0.003579, Max Gradient: 0.007013\n",
            "\n",
            "Epoch 3 completed\n",
            "Total execution time = 0.809 sec\n",
            "Max memory used by tensors = 765.79 MB\n"
          ]
        }
      ]
    },
    {
      "cell_type": "code",
      "source": [
        "from torch.optim.lr_scheduler import StepLR\n",
        "\n",
        "# 使用学习率调度器\n",
        "scheduler = StepLR(optimizer, step_size=10, gamma=0.1)  # 每 10 个 epoch 将学习率乘以 0.1\n",
        "\n",
        "for epoch in range(epochs):\n",
        " start_timer()\n",
        " for i in range(num_batches):\n",
        "     inputs = data[i].to(device)\n",
        "     labels = targets[i].to(device)\n",
        "\n",
        "     outputs = model(inputs)\n",
        "     loss = loss_fn(outputs, labels)\n",
        "\n",
        "     optimizer.zero_grad()\n",
        "     loss.backward()\n",
        "     optimizer.step()\n",
        "\n",
        " # 每个 epoch 结束后调整学习率\n",
        " scheduler.step()\n",
        " print(f\"Epoch {epoch + 1}, Learning Rate: {scheduler.get_last_lr()[0]}\")\n",
        " end_timer_and_print(f\"Epoch {epoch + 1} completed\")"
      ],
      "metadata": {
        "id": "J5A0Ez56Vwyp",
        "outputId": "67ee3c99-b6b1-45e2-a17e-ae4ef89f46ac",
        "colab": {
          "base_uri": "https://localhost:8080/"
        }
      },
      "execution_count": 16,
      "outputs": [
        {
          "output_type": "stream",
          "name": "stdout",
          "text": [
            "Epoch 1, Learning Rate: 0.001\n",
            "\n",
            "Epoch 1 completed\n",
            "Total execution time = 0.849 sec\n",
            "Max memory used by tensors = 765.79 MB\n",
            "Epoch 2, Learning Rate: 0.001\n",
            "\n",
            "Epoch 2 completed\n",
            "Total execution time = 0.797 sec\n",
            "Max memory used by tensors = 765.79 MB\n",
            "Epoch 3, Learning Rate: 0.001\n",
            "\n",
            "Epoch 3 completed\n",
            "Total execution time = 0.800 sec\n",
            "Max memory used by tensors = 765.79 MB\n"
          ]
        }
      ]
    },
    {
      "cell_type": "code",
      "source": [
        "import matplotlib.pyplot as plt\n",
        "\n",
        "# 记录损失值\n",
        "loss_history = []\n",
        "\n",
        "for epoch in range(epochs):\n",
        " epoch_loss = 0.0\n",
        " start_timer()\n",
        " for i in range(num_batches):\n",
        "     inputs = data[i].to(device)\n",
        "     labels = targets[i].to(device)\n",
        "\n",
        "     outputs = model(inputs)\n",
        "     loss = loss_fn(outputs, labels)\n",
        "\n",
        "     optimizer.zero_grad()\n",
        "     loss.backward()\n",
        "     optimizer.step()\n",
        "\n",
        "     epoch_loss += loss.item()\n",
        "\n",
        " # 记录每个 epoch 的平均损失\n",
        " avg_loss = epoch_loss / num_batches\n",
        " loss_history.append(avg_loss)\n",
        " print(f\"Epoch {epoch + 1}, Loss: {avg_loss:.6f}\")\n",
        " end_timer_and_print(f\"Epoch {epoch + 1} completed\")\n",
        "\n",
        "# 绘制损失曲线\n",
        "plt.plot(loss_history, label=\"Training Loss\")\n",
        "plt.xlabel(\"Epoch\")\n",
        "plt.ylabel(\"Loss\")\n",
        "plt.title(\"Training Loss Curve\")\n",
        "plt.legend()\n",
        "plt.show()"
      ],
      "metadata": {
        "id": "OH08dAZbVyaG",
        "outputId": "349a94e5-acfa-4c7c-e4cb-6c15c80ebc62",
        "colab": {
          "base_uri": "https://localhost:8080/",
          "height": 747
        }
      },
      "execution_count": 17,
      "outputs": [
        {
          "output_type": "stream",
          "name": "stdout",
          "text": [
            "Epoch 1, Loss: 0.071874\n",
            "\n",
            "Epoch 1 completed\n",
            "Total execution time = 0.902 sec\n",
            "Max memory used by tensors = 765.79 MB\n",
            "Epoch 2, Loss: 0.071066\n",
            "\n",
            "Epoch 2 completed\n",
            "Total execution time = 0.811 sec\n",
            "Max memory used by tensors = 765.79 MB\n",
            "Epoch 3, Loss: 0.069617\n",
            "\n",
            "Epoch 3 completed\n",
            "Total execution time = 0.811 sec\n",
            "Max memory used by tensors = 765.79 MB\n"
          ]
        },
        {
          "output_type": "display_data",
          "data": {
            "text/plain": [
              "<Figure size 640x480 with 1 Axes>"
            ],
            "image/png": "[encoded data removed]"
          },
          "metadata": {}
        }
      ]
    },
    {
      "cell_type": "code",
      "source": [
        "def plot_weight_distribution(model):\n",
        " for name, param in model.named_parameters():\n",
        "     if \"weight\" in name:\n",
        "         plt.hist(param.data.cpu().numpy().flatten(), bins=50, alpha=0.5, label=name)\n",
        " plt.xlabel(\"Weight Value\")\n",
        " plt.ylabel(\"Frequency\")\n",
        " plt.title(\"Weight Distribution\")\n",
        " plt.legend()\n",
        " plt.show()\n",
        "\n",
        "# 在训练前后绘制权重分布\n",
        "print(\"Initial Weight Distribution:\")\n",
        "plot_weight_distribution(model)\n",
        "\n",
        "for epoch in range(epochs):\n",
        " start_timer()\n",
        " for i in range(num_batches):\n",
        "     inputs = data[i].to(device)\n",
        "     labels = targets[i].to(device)\n",
        "\n",
        "     outputs = model(inputs)\n",
        "     loss = loss_fn(outputs, labels)\n",
        "\n",
        "     optimizer.zero_grad()\n",
        "     loss.backward()\n",
        "     optimizer.step()\n",
        " end_timer_and_print(f\"Epoch {epoch + 1} completed\")\n",
        "\n",
        "print(\"Final Weight Distribution:\")\n",
        "plot_weight_distribution(model)"
      ],
      "metadata": {
        "id": "maAnm0P6V0Oh",
        "outputId": "4d246fc6-2565-4cb1-95fc-2cc104a4460c",
        "colab": {
          "base_uri": "https://localhost:8080/",
          "height": 1000
        }
      },
      "execution_count": 18,
      "outputs": [
        {
          "output_type": "stream",
          "name": "stdout",
          "text": [
            "Initial Weight Distribution:\n"
          ]
        },
        {
          "output_type": "display_data",
          "data": {
            "text/plain": [
              "<Figure size 640x480 with 1 Axes>"
            ],
            "image/png": "[encoded data removed]"
          },
          "metadata": {}
        },
        {
          "output_type": "stream",
          "name": "stdout",
          "text": [
            "\n",
            "Epoch 1 completed\n",
            "Total execution time = 0.875 sec\n",
            "Max memory used by tensors = 765.79 MB\n",
            "\n",
            "Epoch 2 completed\n",
            "Total execution time = 0.804 sec\n",
            "Max memory used by tensors = 765.79 MB\n",
            "\n",
            "Epoch 3 completed\n",
            "Total execution time = 0.806 sec\n",
            "Max memory used by tensors = 765.79 MB\n",
            "Final Weight Distribution:\n"
          ]
        },
        {
          "output_type": "display_data",
          "data": {
            "text/plain": [
              "<Figure size 640x480 with 1 Axes>"
            ],
            "image/png": "[encoded data removed]"
          },
          "metadata": {}
        }
      ]
    },
    {
      "cell_type": "markdown",
      "metadata": {
        "id": "uqHSgUgVTIqp"
      },
      "source": [
        "Adding `GradScaler`\n",
        "===================\n",
        "\n",
        "[Gradient\n",
        "scaling](https://pytorch.org/docs/stable/amp.html#gradient-scaling)\n",
        "helps prevent gradients with small magnitudes from flushing to zero\n",
        "(\\\"underflowing\\\") when training with mixed precision.\n",
        "\n",
        "[torch.cuda.amp.GradScaler](https://pytorch.org/docs/stable/amp.html#torch.cuda.amp.GradScaler)\n",
        "performs the steps of gradient scaling conveniently.\n"
      ]
    },
    {
      "cell_type": "code",
      "execution_count": 12,
      "metadata": {
        "id": "asqtvVgSTIqq"
      },
      "outputs": [],
      "source": [
        "# Constructs a ``scaler`` once, at the beginning of the convergence run, using default arguments.\n",
        "# If your network fails to converge with default ``GradScaler`` arguments, please file an issue.\n",
        "# The same ``GradScaler`` instance should be used for the entire convergence run.\n",
        "# If you perform multiple convergence runs in the same script, each run should use\n",
        "# a dedicated fresh ``GradScaler`` instance. ``GradScaler`` instances are lightweight.\n",
        "scaler = torch.amp.GradScaler(\"cuda\")\n",
        "\n",
        "for epoch in range(0): # 0 epochs, this section is for illustration only\n",
        "    for input, target in zip(data, targets):\n",
        "        with torch.autocast(device_type=device, dtype=torch.float16):\n",
        "            output = net(input)\n",
        "            loss = loss_fn(output, target)\n",
        "\n",
        "        # Scales loss. Calls ``backward()`` on scaled loss to create scaled gradients.\n",
        "        scaler.scale(loss).backward()\n",
        "\n",
        "        # ``scaler.step()`` first unscales the gradients of the optimizer's assigned parameters.\n",
        "        # If these gradients do not contain ``inf``s or ``NaN``s, optimizer.step() is then called,\n",
        "        # otherwise, optimizer.step() is skipped.\n",
        "        scaler.step(opt)\n",
        "\n",
        "        # Updates the scale for next iteration.\n",
        "        scaler.update()\n",
        "\n",
        "        opt.zero_grad() # set_to_none=True here can modestly improve performance"
      ]
    },
    {
      "cell_type": "markdown",
      "metadata": {
        "id": "_46WzCW0TIqs"
      },
      "source": [
        "All together: \\\"Automatic Mixed Precision\\\"\n",
        "===========================================\n",
        "\n",
        "(The following also demonstrates `enabled`, an optional convenience\n",
        "argument to `autocast` and `GradScaler`. If False, `autocast` and\n",
        "`GradScaler`\\'s calls become no-ops. This allows switching between\n",
        "default precision and mixed precision without if/else statements.)\n"
      ]
    },
    {
      "cell_type": "code",
      "execution_count": null,
      "metadata": {
        "id": "mJ8jsJHPTIqt"
      },
      "outputs": [],
      "source": [
        "use_amp = True\n",
        "\n",
        "net = make_model(in_size, out_size, num_layers)\n",
        "opt = torch.optim.SGD(net.parameters(), lr=0.001)\n",
        "scaler = torch.amp.GradScaler(\"cuda\" ,enabled=use_amp)\n",
        "\n",
        "start_timer()\n",
        "for epoch in range(epochs):\n",
        "    for input, target in zip(data, targets):\n",
        "        with torch.autocast(device_type=device, dtype=torch.float16, enabled=use_amp):\n",
        "            output = net(input)\n",
        "            loss = loss_fn(output, target)\n",
        "        scaler.scale(loss).backward()\n",
        "        scaler.step(opt)\n",
        "        scaler.update()\n",
        "        opt.zero_grad() # set_to_none=True here can modestly improve performance\n",
        "end_timer_and_print(\"Mixed precision:\")"
      ]
    },
    {
      "cell_type": "markdown",
      "metadata": {
        "id": "fyvBtH_OTIqu"
      },
      "source": [
        "Inspecting/modifying gradients (e.g., clipping)\n",
        "===============================================\n",
        "\n",
        "All gradients produced by `scaler.scale(loss).backward()` are scaled. If\n",
        "you wish to modify or inspect the parameters\\' `.grad` attributes\n",
        "between `backward()` and `scaler.step(optimizer)`, you should unscale\n",
        "them first using\n",
        "[scaler.unscale\\_(optimizer)](https://pytorch.org/docs/stable/amp.html#torch.cuda.amp.GradScaler.unscale_).\n"
      ]
    },
    {
      "cell_type": "code",
      "execution_count": null,
      "metadata": {
        "id": "rVPRdwy8TIqu"
      },
      "outputs": [],
      "source": [
        "for epoch in range(0): # 0 epochs, this section is for illustration only\n",
        "    for input, target in zip(data, targets):\n",
        "        with torch.autocast(device_type=device, dtype=torch.float16):\n",
        "            output = net(input)\n",
        "            loss = loss_fn(output, target)\n",
        "        scaler.scale(loss).backward()\n",
        "\n",
        "        # Unscales the gradients of optimizer's assigned parameters in-place\n",
        "        scaler.unscale_(opt)\n",
        "\n",
        "        # Since the gradients of optimizer's assigned parameters are now unscaled, clips as usual.\n",
        "        # You may use the same value for max_norm here as you would without gradient scaling.\n",
        "        torch.nn.utils.clip_grad_norm_(net.parameters(), max_norm=0.1)\n",
        "\n",
        "        scaler.step(opt)\n",
        "        scaler.update()\n",
        "        opt.zero_grad() # set_to_none=True here can modestly improve performance"
      ]
    },
    {
      "cell_type": "markdown",
      "metadata": {
        "id": "pCNZPnC7TIqv"
      },
      "source": [
        "Saving/Resuming\n",
        "===============\n",
        "\n",
        "To save/resume Amp-enabled runs with bitwise accuracy, use\n",
        "[scaler.state\\_dict](https://pytorch.org/docs/stable/amp.html#torch.cuda.amp.GradScaler.state_dict)\n",
        "and\n",
        "[scaler.load\\_state\\_dict](https://pytorch.org/docs/stable/amp.html#torch.cuda.amp.GradScaler.load_state_dict).\n",
        "\n",
        "When saving, save the `scaler` state dict alongside the usual model and\n",
        "optimizer state `dicts`. Do this either at the beginning of an iteration\n",
        "before any forward passes, or at the end of an iteration after\n",
        "`scaler.update()`.\n"
      ]
    },
    {
      "cell_type": "code",
      "execution_count": null,
      "metadata": {
        "id": "KYVC80JKTIqv"
      },
      "outputs": [],
      "source": [
        "checkpoint = {\"model\": net.state_dict(),\n",
        "              \"optimizer\": opt.state_dict(),\n",
        "              \"scaler\": scaler.state_dict()}\n",
        "# Write checkpoint as desired, e.g.,\n",
        "# torch.save(checkpoint, \"filename\")"
      ]
    },
    {
      "cell_type": "markdown",
      "metadata": {
        "id": "kecO45NgTIqv"
      },
      "source": [
        "When resuming, load the `scaler` state dict alongside the model and\n",
        "optimizer state `dicts`. Read checkpoint as desired, for example:\n",
        "\n",
        "``` {.}\n",
        "dev = torch.cuda.current_device()\n",
        "checkpoint = torch.load(\"filename\",\n",
        "                        map_location = lambda storage, loc: storage.cuda(dev))\n",
        "```\n"
      ]
    },
    {
      "cell_type": "code",
      "execution_count": null,
      "metadata": {
        "id": "BqL7H8BUTIqw"
      },
      "outputs": [],
      "source": [
        "net.load_state_dict(checkpoint[\"model\"])\n",
        "opt.load_state_dict(checkpoint[\"optimizer\"])\n",
        "scaler.load_state_dict(checkpoint[\"scaler\"])"
      ]
    },
    {
      "cell_type": "markdown",
      "metadata": {
        "id": "JdSRytVQTIqw"
      },
      "source": [
        "If a checkpoint was created from a run *without* Amp, and you want to\n",
        "resume training *with* Amp, load model and optimizer states from the\n",
        "checkpoint as usual. The checkpoint won\\'t contain a saved `scaler`\n",
        "state, so use a fresh instance of `GradScaler`.\n",
        "\n",
        "If a checkpoint was created from a run *with* Amp and you want to resume\n",
        "training *without* `Amp`, load model and optimizer states from the\n",
        "checkpoint as usual, and ignore the saved `scaler` state.\n"
      ]
    },
    {
      "cell_type": "markdown",
      "metadata": {
        "id": "u-4Aitf1TIqw"
      },
      "source": [
        "Inference/Evaluation\n",
        "====================\n",
        "\n",
        "`autocast` may be used by itself to wrap inference or evaluation forward\n",
        "passes. `GradScaler` is not necessary.\n"
      ]
    },
    {
      "cell_type": "markdown",
      "metadata": {
        "id": "sBtEb5NHTIqx"
      },
      "source": [
        "Advanced topics\n",
        "===============\n",
        "\n",
        "See the [Automatic Mixed Precision\n",
        "Examples](https://pytorch.org/docs/stable/notes/amp_examples.html) for\n",
        "advanced use cases including:\n",
        "\n",
        "-   Gradient accumulation\n",
        "-   Gradient penalty/double backward\n",
        "-   Networks with multiple models, optimizers, or losses\n",
        "-   Multiple GPUs (`torch.nn.DataParallel` or\n",
        "    `torch.nn.parallel.DistributedDataParallel`)\n",
        "-   Custom autograd functions (subclasses of `torch.autograd.Function`)\n",
        "\n",
        "If you perform multiple convergence runs in the same script, each run\n",
        "should use a dedicated fresh `GradScaler` instance. `GradScaler`\n",
        "instances are lightweight.\n",
        "\n",
        "If you\\'re registering a custom C++ op with the dispatcher, see the\n",
        "[autocast\n",
        "section](https://pytorch.org/tutorials/advanced/dispatcher.html#autocast)\n",
        "of the dispatcher tutorial.\n"
      ]
    },
    {
      "cell_type": "markdown",
      "metadata": {
        "id": "yGvCHgbGTIqx"
      },
      "source": [
        "Troubleshooting\n",
        "===============\n",
        "\n",
        "Speedup with Amp is minor\n",
        "-------------------------\n",
        "\n",
        "1.  Your network may fail to saturate the GPU(s) with work, and is\n",
        "    therefore CPU bound. Amp\\'s effect on GPU performance won\\'t matter.\n",
        "    -   A rough rule of thumb to saturate the GPU is to increase batch\n",
        "        and/or network size(s) as much as you can without running OOM.\n",
        "    -   Try to avoid excessive CPU-GPU synchronization (`.item()` calls,\n",
        "        or printing values from CUDA tensors).\n",
        "    -   Try to avoid sequences of many small CUDA ops (coalesce these\n",
        "        into a few large CUDA ops if you can).\n",
        "2.  Your network may be GPU compute bound (lots of\n",
        "    `matmuls`/convolutions) but your GPU does not have Tensor Cores. In\n",
        "    this case a reduced speedup is expected.\n",
        "3.  The `matmul` dimensions are not Tensor Core-friendly. Make sure\n",
        "    `matmuls` participating sizes are multiples of 8. (For NLP models\n",
        "    with encoders/decoders, this can be subtle. Also, convolutions used\n",
        "    to have similar size constraints for Tensor Core use, but for CuDNN\n",
        "    versions 7.3 and later, no such constraints exist. See\n",
        "    [here](https://github.com/NVIDIA/apex/issues/221#issuecomment-478084841)\n",
        "    for guidance.)\n",
        "\n",
        "Loss is inf/NaN\n",
        "---------------\n",
        "\n",
        "First, check if your network fits an\n",
        "`advanced use case<advanced-topics>`{.interpreted-text role=\"ref\"}. See\n",
        "also [Prefer binary\\_cross\\_entropy\\_with\\_logits over\n",
        "binary\\_cross\\_entropy](https://pytorch.org/docs/stable/amp.html#prefer-binary-cross-entropy-with-logits-over-binary-cross-entropy).\n",
        "\n",
        "If you\\'re confident your Amp usage is correct, you may need to file an\n",
        "issue, but before doing so, it\\'s helpful to gather the following\n",
        "information:\n",
        "\n",
        "1.  Disable `autocast` or `GradScaler` individually (by passing\n",
        "    `enabled=False` to their constructor) and see if `infs`/`NaNs`\n",
        "    persist.\n",
        "2.  If you suspect part of your network (e.g., a complicated loss\n",
        "    function) overflows , run that forward region in `float32` and see\n",
        "    if `infs`/`NaN`s persist. [The autocast\n",
        "    docstring](https://pytorch.org/docs/stable/amp.html#torch.autocast)\\'s\n",
        "    last code snippet shows forcing a subregion to run in `float32` (by\n",
        "    locally disabling `autocast` and casting the subregion\\'s inputs).\n",
        "\n",
        "Type mismatch error (may manifest as `CUDNN_STATUS_BAD_PARAM`)\n",
        "--------------------------------------------------------------\n",
        "\n",
        "`Autocast` tries to cover all ops that benefit from or require casting.\n",
        "[Ops that receive explicit\n",
        "coverage](https://pytorch.org/docs/stable/amp.html#autocast-op-reference)\n",
        "are chosen based on numerical properties, but also on experience. If you\n",
        "see a type mismatch error in an `autocast` enabled forward region or a\n",
        "backward pass following that region, it\\'s possible `autocast` missed an\n",
        "op.\n",
        "\n",
        "Please file an issue with the error backtrace.\n",
        "`export TORCH_SHOW_CPP_STACKTRACES=1` before running your script to\n",
        "provide fine-grained information on which backend op is failing.\n"
      ]
    }
  ],
  "metadata": {
    "kernelspec": {
      "display_name": "Python 3",
      "name": "python3"
    },
    "language_info": {
      "codemirror_mode": {
        "name": "ipython",
        "version": 3
      },
      "file_extension": ".py",
      "mimetype": "text/x-python",
      "name": "python",
      "nbconvert_exporter": "python",
      "pygments_lexer": "ipython3",
      "version": "3.10.12"
    },
    "colab": {
      "provenance": []
    }
  },
  "nbformat": 4,
  "nbformat_minor": 0
}